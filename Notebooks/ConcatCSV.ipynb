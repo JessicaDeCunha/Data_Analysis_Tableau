{
 "cells": [
  {
   "cell_type": "code",
   "execution_count": 3,
   "metadata": {},
   "outputs": [],
   "source": [
    "import pandas as pd\n",
    "import glob"
   ]
  },
  {
   "cell_type": "code",
   "execution_count": 6,
   "metadata": {},
   "outputs": [],
   "source": [
    "files = glob.glob(\"Data/*.csv\")\n",
    "\n",
    "df = pd.DataFrame()\n",
    "for f in files:\n",
    "    csv = pd.read_csv(f)\n",
    "    df = df.append(csv)"
   ]
  },
  {
   "cell_type": "code",
   "execution_count": 8,
   "metadata": {},
   "outputs": [
    {
     "name": "stdout",
     "output_type": "stream",
     "text": [
      "<class 'pandas.core.frame.DataFrame'>\n",
      "Int64Index: 372446 entries, 0 to 26019\n",
      "Data columns (total 15 columns):\n",
      "tripduration               372446 non-null int64\n",
      "starttime                  372446 non-null object\n",
      "stoptime                   372446 non-null object\n",
      "start station id           372446 non-null int64\n",
      "start station name         372446 non-null object\n",
      "start station latitude     372446 non-null float64\n",
      "start station longitude    372446 non-null float64\n",
      "end station id             372446 non-null int64\n",
      "end station name           372446 non-null object\n",
      "end station latitude       372446 non-null float64\n",
      "end station longitude      372446 non-null float64\n",
      "bikeid                     372446 non-null int64\n",
      "usertype                   372446 non-null object\n",
      "birth year                 372446 non-null int64\n",
      "gender                     372446 non-null int64\n",
      "dtypes: float64(4), int64(6), object(5)\n",
      "memory usage: 45.5+ MB\n"
     ]
    }
   ],
   "source": [
    "df.head()\n",
    "df.info()"
   ]
  },
  {
   "cell_type": "code",
   "execution_count": 9,
   "metadata": {},
   "outputs": [],
   "source": [
    "df.to_csv('Citi_Total_data.csv')"
   ]
  },
  {
   "cell_type": "code",
   "execution_count": null,
   "metadata": {},
   "outputs": [],
   "source": []
  }
 ],
 "metadata": {
  "kernelspec": {
   "display_name": "Python [conda env:dev] *",
   "language": "python",
   "name": "conda-env-dev-py"
  },
  "language_info": {
   "codemirror_mode": {
    "name": "ipython",
    "version": 3
   },
   "file_extension": ".py",
   "mimetype": "text/x-python",
   "name": "python",
   "nbconvert_exporter": "python",
   "pygments_lexer": "ipython3",
   "version": "3.7.7"
  }
 },
 "nbformat": 4,
 "nbformat_minor": 4
}
